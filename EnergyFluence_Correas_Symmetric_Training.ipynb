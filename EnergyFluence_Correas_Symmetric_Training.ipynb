{
 "cells": [
  {
   "cell_type": "code",
   "execution_count": 1,
   "metadata": {},
   "outputs": [],
   "source": [
    "# PROTOTYPE Code for energy reconstruction using the Symmetric LDF\n",
    "# Ready to read simulations from CORSIKA/Coreas\n",
    "# using the grand official package\n",
    "# Date: April 08, 2020\n",
    "\n",
    "# Written by Bruno L. Lago"
   ]
  },
  {
   "cell_type": "code",
   "execution_count": 2,
   "metadata": {
    "scrolled": true
   },
   "outputs": [
    {
     "name": "stdout",
     "output_type": "stream",
     "text": [
      "* EnergyRec default values summary:\n",
      "--> bool_plot =  False\n",
      "--> bool_EarlyLate =  True\n",
      "--> nu_low =  50\n",
      "--> nu_high =  200\n",
      "--> SNR_thres =  10\n",
      "--> thres_low =  1e-07\n",
      "--> thres_high =  1\n",
      "--> f_thres =  0.01\n",
      "--> printLevel =  0\n",
      "\n",
      "\n"
     ]
    }
   ],
   "source": [
    "from modERec import EnergyRec\n",
    "import numpy as np\n",
    "import matplotlib.pyplot as plt"
   ]
  },
  {
   "cell_type": "markdown",
   "metadata": {},
   "source": [
    "# Training stage of $a_{ratio}$\n",
    "\n",
    "The following blocks are used to train the method and determine the parameters of $a_{ratio}$.\n",
    "\n",
    "$$a(r,d_{max},\\rho_{max};{\\boldsymbol p}) = p_0.\\frac{r}{d_{max}}.\\exp \\left(\\frac{r}{p_1}\\right).\n",
    "\\left[ \\exp\\left(\\frac{\\rho_{max}-<\\rho_{max}>}{p_2}\\right)-p_3\\right]$$\n",
    "\n",
    "The first step is to evaluate several quantities of interest: geomagnetic fluence, charge excess fluence, geomagnetic angle, axis distance of the antennas, distance to the $X_{max}$ and density at the $X_{max}$."
   ]
  },
  {
   "cell_type": "code",
   "execution_count": 3,
   "metadata": {},
   "outputs": [],
   "source": [
    "def quantities(sim_dir):\n",
    "    rec1 = EnergyRec(sim_dir)\n",
    "\n",
    "    weight = np.array([ant.wEarlyLate for ant in rec1.antenna])\n",
    "    r_proj = np.array([ant.r_proj for ant in rec1.antenna])\n",
    "    fluence_geo = np.array([ant.fluence_geo for ant in rec1.antenna])/(weight**2)\n",
    "    fluence_ce = np.array([ant.fluence_ce for ant in rec1.antenna])/(weight**2)\n",
    "\n",
    "#     print(rec1.shower.r_proj,\"\\n\")\n",
    "#     print(rec1.shower.r_Core_proj,\"\\n\")\n",
    "#     print(weight)\n",
    "    n_ant = len(rec1.GRANDshower.fields)\n",
    "    alpha = np.full(n_ant,np.arccos(np.dot(rec1.shower.ev,rec1.shower.eB)))\n",
    "    distance = np.linalg.norm((r_proj - rec1.shower.r_Core_proj)[:,0:2],axis=1)*weight\n",
    "    d_Xmax = np.full(n_ant,rec1.shower.d_Xmax)\n",
    "    rho_Xmax = np.full(n_ant,rec1.SymFit.rho(d_Xmax[0],-rec1.shower.ev))\n",
    "    \n",
    "    return fluence_geo, fluence_ce, alpha, distance, d_Xmax, rho_Xmax"
   ]
  },
  {
   "cell_type": "markdown",
   "metadata": {},
   "source": [
    "### Loop over the simulations\n",
    "\n",
    "Loop over the simulations and store the corresponding quantities."
   ]
  },
  {
   "cell_type": "code",
   "execution_count": 4,
   "metadata": {},
   "outputs": [],
   "source": [
    "fluence_geo = np.array([])\n",
    "fluence_ce = np.array([])\n",
    "alpha = np.array([])\n",
    "distance = np.array([])\n",
    "d_Xmax = np.array([])\n",
    "rho_Xmax = np.array([])\n",
    "\n",
    "for i in range(100001,100021):\n",
    "    sim_dir = '/mnt/d/Pesquisa/GRAND/simulation/chuv_estrela/80deg/sim' + str(i)\n",
    "\n",
    "    f_geo, f_ce, a, d, d_max, rho_max = quantities(sim_dir)\n",
    "    fluence_geo = np.append(fluence_geo,f_geo)\n",
    "    fluence_ce = np.append(fluence_ce,f_ce)\n",
    "    alpha = np.append(alpha,a)\n",
    "    distance = np.append(distance,d)\n",
    "    d_Xmax = np.append(d_Xmax,d_max)\n",
    "    rho_Xmax = np.append(rho_Xmax,rho_max)"
   ]
  },
  {
   "cell_type": "markdown",
   "metadata": {},
   "source": [
    "### Perform the fit"
   ]
  },
  {
   "cell_type": "code",
   "execution_count": 5,
   "metadata": {},
   "outputs": [
    {
     "name": "stdout",
     "output_type": "stream",
     "text": [
      "0.002064248046781925\n",
      "[1.97915209e-03 2.19519197e+02 3.64956328e-01 1.16415162e-01]\n"
     ]
    }
   ],
   "source": [
    "bestfit = EnergyRec.SymFit.a_ratio_fit(fluence_geo, fluence_ce,alpha, distance, d_Xmax, rho_Xmax)\n",
    "print(EnergyRec.SymFit.a_ratio_chi2(bestfit,fluence_geo, fluence_ce,alpha, distance, d_Xmax, rho_Xmax))\n",
    "print(bestfit)"
   ]
  },
  {
   "cell_type": "markdown",
   "metadata": {},
   "source": [
    "# Plot of a single simulation\n",
    "\n",
    "The following blocks plot the early-late corrected $f_{\\bf{v}\\times\\bf{B}}$ and the symmetrized signal distribution\n",
    "$$f_{par} = \\frac{f_{\\bf{v}\\times\\bf{B}}}{\\left(1+\\frac{\\cos(\\phi)}{|\\sin(\\alpha)|}.\\sqrt{(a(r,d_{max},\\rho_{max})}\\right)^2}$$"
   ]
  },
  {
   "cell_type": "code",
   "execution_count": 6,
   "metadata": {},
   "outputs": [],
   "source": [
    "rec1 = EnergyRec(sim_dir)\n",
    "\n",
    "fluence_par = rec1.Eval_par_fluences(bestfit)\n",
    "\n",
    "r_proj = np.array([ant.r_proj for ant in rec1.antenna])\n",
    "\n",
    "distance = np.linalg.norm((r_proj - rec1.shower.r_Core_proj)[:,0:2],axis=1)\n",
    "d_Xmax = rec1.shower.d_Xmax\n",
    "rho_Xmax = rec1.SymFit.rho(d_Xmax,-rec1.shower.ev)"
   ]
  },
  {
   "cell_type": "code",
   "execution_count": 7,
   "metadata": {},
   "outputs": [
    {
     "name": "stdout",
     "output_type": "stream",
     "text": [
      "-0.0025726271302768137 0.05991265467697983\n"
     ]
    },
    {
     "data": {
      "image/png": "[encoded data removed]",
      "text/plain": [
       "<Figure size 1008x360 with 2 Axes>"
      ]
     },
     "metadata": {
      "needs_background": "light"
     },
     "output_type": "display_data"
    }
   ],
   "source": [
    "plt.figure(figsize=[14,5])\n",
    "r_proj = np.array([ant.r_proj for ant in rec1.antenna])\n",
    "distance = np.linalg.norm((r_proj - rec1.shower.r_Core_proj)[:,0:2],axis=1)\n",
    "\n",
    "fluence_arr = np.array([ant.fluence for ant in rec1.antenna])\n",
    "fluence_evB = np.array([ant.fluence_evB/(ant.wEarlyLate**2) for ant in rec1.antenna])\n",
    "\n",
    "sel = np.where(fluence_arr>0.01)\n",
    "plt.subplot(121)\n",
    "#plt.plot(distance,fluence_evB_unc,\"g*\", label=\"raw\")\n",
    "plt.plot(distance[sel],fluence_evB[sel],\"b*\", label = \"early late corr\")\n",
    "plt.plot(distance[sel],fluence_par[sel],\"r*\", label = r'f_${par}$')\n",
    "\n",
    "plt.ylim(0,1)\n",
    "plt.xlim(0,1500)\n",
    "\n",
    "plt.xlabel(\"dist. in m\")\n",
    "plt.ylabel(\"fluence eV/m$^2$\")\n",
    "\n",
    "plt.legend()\n",
    "\n",
    "#plt.gca().set_yscale('log')\n",
    "\n",
    "plt.subplot(122)\n",
    "\n",
    "diff = (fluence_evB - fluence_par)/fluence_evB\n",
    "plt.hist(diff[sel],10)\n",
    "plt.title(\"($f_{early-late}-f_{par})/f_{ealy-late}$\")\n",
    "\n",
    "print(np.mean(diff),np.std(diff))"
   ]
  },
  {
   "cell_type": "markdown",
   "metadata": {},
   "source": [
    "# Plots the $a_{ratio}$\n",
    "\n",
    "Divided by the exponential term as a function of the off axis angle."
   ]
  },
  {
   "cell_type": "code",
   "execution_count": 8,
   "metadata": {},
   "outputs": [
    {
     "data": {
      "text/plain": [
       "Text(0, 0.5, '$a/\\\\left[ \\\\exp\\\\left(\\\\frac{\\\\rho_{max}-<\\\\rho_{max}>}{p_2}\\\\right)-p_3\\\\right]$')"
      ]
     },
     "execution_count": 8,
     "metadata": {},
     "output_type": "execute_result"
    },
    {
     "data": {
      "image/png": "[encoded data removed]",
      "text/plain": [
       "<Figure size 432x288 with 1 Axes>"
      ]
     },
     "metadata": {
      "needs_background": "light"
     },
     "output_type": "display_data"
    }
   ],
   "source": [
    "dist = np.array(range(1500))\n",
    "par = [0.373, 762.6, 0.149, 0.189]\n",
    "a_ratio = rec1.SymFit.a_ratio(dist, d_Xmax, par, rho_Xmax)\n",
    "den = np.exp((rho_Xmax-0.4)/0.149)-0.189\n",
    "plt.plot(dist/d_Xmax*180/np.pi,a_ratio/den)\n",
    "plt.xlabel(r'$\\frac{r}{d_{max}}$ in deg')\n",
    "plt.ylabel(r'$a/\\left[ \\exp\\left(\\frac{\\rho_{max}-<\\rho_{max}>}{p_2}\\right)-p_3\\right]$')"
   ]
  },
  {
   "cell_type": "markdown",
   "metadata": {},
   "source": [
    "### Plots the $f_{par}$\n",
    "\n",
    "The following block plots the $f_{par}$"
   ]
  },
  {
   "cell_type": "code",
   "execution_count": 9,
   "metadata": {},
   "outputs": [
    {
     "data": {
      "text/plain": [
       "Text(0, 0.5, 'fluence eV/m$^2$')"
      ]
     },
     "execution_count": 9,
     "metadata": {},
     "output_type": "execute_result"
    },
    {
     "data": {
      "image/png": "[encoded data removed]",
      "text/plain": [
       "<Figure size 432x288 with 1 Axes>"
      ]
     },
     "metadata": {
      "needs_background": "light"
     },
     "output_type": "display_data"
    }
   ],
   "source": [
    "sel = np.where(fluence_par>0)\n",
    "ldf_par = rec1.SymFit.SymLDF_fit(distance[sel],fluence_par[sel])\n",
    "f_par = rec1.SymFit.SymLDF(ldf_par,distance)\n",
    "plt.plot(distance[sel],fluence_par[sel],\"r*\")\n",
    "plt.plot(distance[sel],f_par[sel],\"*\")\n",
    "\n",
    "plt.xlabel(\"dist. in m\")\n",
    "plt.ylabel(\"fluence eV/m$^2$\")"
   ]
  },
  {
   "cell_type": "markdown",
   "metadata": {},
   "source": [
    "# Training stage of the $S_{radio}$\n",
    "\n",
    "The $f_{par}$ is fitted using \n",
    "$$f_{ABCD}(r) = A.\\exp\\left[-B.r -C.r^2 -D.r^3 \\right] $$\n",
    "\n",
    "The following block evaluates several quantities of interest for each simulation: the parameters of the ldf fit , the geomagnetic angle, the density at the $X_{max}$ and the energy. "
   ]
  },
  {
   "cell_type": "code",
   "execution_count": 10,
   "metadata": {},
   "outputs": [],
   "source": [
    "ldf_par_arr = np.empty(shape=(0, 4))\n",
    "alpha_arr = np.array([])\n",
    "rho_Xmax_arr = np.array([])\n",
    "E_arr = np.array([])\n",
    "\n",
    "for i in range(100001,100021):\n",
    "    sim_dir = '/mnt/d/Pesquisa/GRAND/simulation/chuv_estrela/80deg/sim' + str(i)\n",
    "    rec1 = EnergyRec(sim_dir)\n",
    " \n",
    "    r_proj = np.array([ant.r_proj for ant in rec1.antenna])\n",
    "    distance = np.linalg.norm((r_proj - rec1.shower.r_Core_proj)[:,0:2],axis=1)\n",
    "    \n",
    "    fluence_par = rec1.Eval_par_fluences(bestfit)\n",
    "    sel = np.where(fluence_par>0)\n",
    "    \n",
    "    ldf_par = rec1.SymFit.SymLDF_fit(distance[sel],fluence_par[sel])\n",
    "    d_Xmax = rec1.shower.d_Xmax\n",
    "    rho_Xmax = rec1.SymFit.rho(d_Xmax,-rec1.shower.ev)\n",
    "\n",
    "    ldf_par_arr = np.vstack((ldf_par_arr,[ldf_par]))\n",
    "    alpha_arr = np.append(alpha_arr,[np.arccos(np.dot(rec1.shower.ev,rec1.shower.eB))])\n",
    "    rho_Xmax_arr = np.append(rho_Xmax_arr,[rho_Xmax])\n",
    "    E_arr = np.append(E_arr,[rec1.GRANDshower.energy.to(\"EeV\").value])"
   ]
  },
  {
   "cell_type": "markdown",
   "metadata": {},
   "source": [
    "### The energy estimator\n",
    "\n",
    "The radiation energy (integral of the symmetric LDF) hsa to be corrected according\n",
    "$$S_{rad} = \\frac{E_{rad}}{\\sin^2(\\alpha)}.\\frac{1}{1-par_0+par_0.\\exp\\left[par_1.(\\rho_{max}-0.648\\, {\\rm kg/m^3}) \\right]}$$\n",
    "\n",
    "The $S_{radio}$ is related to the energy via\n",
    "$$S_{rad} = S_{19}.\\left( \\frac{E}{10 {\\rm EeV}}\\right)^\\gamma$$\n",
    "\n",
    "The parameters of the above equations are obtained through a joint fit to all simulations."
   ]
  },
  {
   "cell_type": "code",
   "execution_count": 11,
   "metadata": {},
   "outputs": [
    {
     "name": "stdout",
     "output_type": "stream",
     "text": [
      "[ 1.56168476e+01 -6.56273889e+01  3.99405798e-18 -6.30425319e+00]\n"
     ]
    }
   ],
   "source": [
    "joint_bestfit = rec1.SymFit.joint_S_fit(ldf_par_arr,alpha_arr,rho_Xmax_arr,E_arr)\n",
    "print(joint_bestfit)"
   ]
  },
  {
   "cell_type": "markdown",
   "metadata": {},
   "source": [
    "# $S_{radio}\\times$  energy relation\n",
    "\n",
    "When simulations for different energies are available this block will plot the relation between $S_{radio}$ and the energy."
   ]
  },
  {
   "cell_type": "code",
   "execution_count": 12,
   "metadata": {},
   "outputs": [
    {
     "data": {
      "text/plain": [
       "[<matplotlib.lines.Line2D at 0x7f5ae8bfc2e0>]"
      ]
     },
     "execution_count": 12,
     "metadata": {},
     "output_type": "execute_result"
    },
    {
     "data": {
      "image/png": "[encoded data removed]",
      "text/plain": [
       "<Figure size 432x288 with 1 Axes>"
      ]
     },
     "metadata": {
      "needs_background": "light"
     },
     "output_type": "display_data"
    }
   ],
   "source": [
    "S_geo = np.zeros(len(ldf_par_arr))\n",
    "S_mod = np.zeros(len(ldf_par_arr))\n",
    "\n",
    "for i in range(len(ldf_par_arr)):\n",
    "    S_geo[i] = EnergyRec.SymFit.Sradio_geo(joint_bestfit[0:2],ldf_par_arr[i],alpha_arr[i],rho_Xmax_arr[i])\n",
    "    S_mod[i] = EnergyRec.SymFit.Sradio_mod(joint_bestfit[2:4],E_arr[i])\n",
    "\n",
    "plt.plot(S_geo,S_mod)"
   ]
  },
  {
   "cell_type": "markdown",
   "metadata": {},
   "source": [
    "# $S_{radio}$ distribution\n",
    "\n",
    "Since it was not possible to fit the parameters of the $S_{radio}\\times$ energy relation. The following block plots the $S_{rad}$ obtained using the parameters from the ICRC proceeding 2019 by Tim Huege."
   ]
  },
  {
   "cell_type": "code",
   "execution_count": 13,
   "metadata": {},
   "outputs": [
    {
     "data": {
      "text/plain": [
       "(array([2., 1., 1., 3., 2., 3., 3., 1., 2., 2.]),\n",
       " array([0.82423278, 0.8596064 , 0.89498002, 0.93035363, 0.96572725,\n",
       "        1.00110087, 1.03647448, 1.0718481 , 1.10722172, 1.14259533,\n",
       "        1.17796895]),\n",
       " <a list of 10 Patch objects>)"
      ]
     },
     "execution_count": 13,
     "metadata": {},
     "output_type": "execute_result"
    },
    {
     "data": {
      "image/png": "[encoded data removed]",
      "text/plain": [
       "<Figure size 432x288 with 1 Axes>"
      ]
     },
     "metadata": {
      "needs_background": "light"
     },
     "output_type": "display_data"
    }
   ],
   "source": [
    "p0 = 0.394\n",
    "p1 = -2.370 #m^3/kg\n",
    "S_19 = 1.408 #GeV\n",
    "gamma = 1.995\n",
    "par_Tim = [p0,p1,S_19,gamma]\n",
    "\n",
    "S_geo_Tim = np.zeros(len(ldf_par_arr))\n",
    "\n",
    "for i in range(len(ldf_par_arr)):\n",
    "    S_geo_Tim[i] = EnergyRec.SymFit.Sradio_geo(par_Tim[0:2],ldf_par_arr[i],alpha_arr[i],rho_Xmax_arr[i])\n",
    "\n",
    "#plt.hist(S_geo_Tim)\n",
    "\n",
    "plt.figure()\n",
    "plt.hist(np.sqrt(S_geo_Tim*1e-9/S_19)*100/2.8) # forced division by 2.8"
   ]
  },
  {
   "cell_type": "code",
   "execution_count": null,
   "metadata": {},
   "outputs": [],
   "source": []
  }
 ],
 "metadata": {
  "kernelspec": {
   "display_name": "Python 3",
   "language": "python",
   "name": "python3"
  },
  "language_info": {
   "codemirror_mode": {
    "name": "ipython",
    "version": 3
   },
   "file_extension": ".py",
   "mimetype": "text/x-python",
   "name": "python",
   "nbconvert_exporter": "python",
   "pygments_lexer": "ipython3",
   "version": "3.8.2"
  },
  "varInspector": {
   "cols": {
    "lenName": 16,
    "lenType": 16,
    "lenVar": 40
   },
   "kernels_config": {
    "python": {
     "delete_cmd_postfix": "",
     "delete_cmd_prefix": "del ",
     "library": "var_list.py",
     "varRefreshCmd": "print(var_dic_list())"
    },
    "r": {
     "delete_cmd_postfix": ") ",
     "delete_cmd_prefix": "rm(",
     "library": "var_list.r",
     "varRefreshCmd": "cat(var_dic_list()) "
    }
   },
   "types_to_exclude": [
    "module",
    "function",
    "builtin_function_or_method",
    "instance",
    "_Feature"
   ],
   "window_display": false
  }
 },
 "nbformat": 4,
 "nbformat_minor": 4
}
