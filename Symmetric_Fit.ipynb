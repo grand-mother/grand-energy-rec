{
 "cells": [
  {
   "cell_type": "code",
   "execution_count": 1,
   "metadata": {},
   "outputs": [
    {
     "name": "stdout",
     "output_type": "stream",
     "text": [
      "* EnergyRec default values summary:\n",
      "--> bool_plot =  False\n",
      "--> bool_EarlyLate =  False\n",
      "--> nu_low =  50\n",
      "--> nu_high =  200\n",
      "--> SNR_thres =  10\n",
      "--> thres_low =  1e-07\n",
      "--> thres_high =  1\n",
      "--> f_thres =  0.01\n",
      "\n",
      "\n"
     ]
    }
   ],
   "source": [
    "from modERec import EnergyRec\n",
    "import numpy as np\n",
    "import matplotlib.pyplot as plt"
   ]
  },
  {
   "cell_type": "code",
   "execution_count": 2,
   "metadata": {},
   "outputs": [
    {
     "name": "stdout",
     "output_type": "stream",
     "text": [
      "* EnergyRec instance starting values summary:\n",
      "--> bool_plot =  False\n",
      "--> bool_EarlyLate =  False\n",
      "--> nu_low =  50\n",
      "--> nu_high =  200\n",
      "--> SNR_thres =  10\n",
      "--> thres_low =  1e-07\n",
      "--> thres_high =  1\n",
      "--> f_thres =  0.01\n",
      "* Evaluating the fluences:\n",
      "--> 0 % complete;\n",
      "--> 10 % complete;\n",
      "--> 20 % complete;\n",
      "--> 30 % complete;\n",
      "--> 40 % complete;\n",
      "--> 50 % complete;\n",
      "--> 60 % complete;\n",
      "--> 70 % complete;\n",
      "--> 80 % complete;\n",
      "--> 90 % complete;\n",
      "--> 100 % complete;\n",
      "\n",
      "\n",
      "--> Early-late correction ALREADY applied \n",
      "\n",
      "* Evaluating the fluences:\n",
      "--> 0 % complete;\n",
      "--> 10 % complete;\n",
      "--> 20 % complete;\n",
      "--> 30 % complete;\n",
      "--> 40 % complete;\n",
      "--> 50 % complete;\n",
      "--> 60 % complete;\n",
      "--> 70 % complete;\n",
      "--> 80 % complete;\n",
      "--> 90 % complete;\n",
      "--> 100 % complete;\n",
      "\n",
      "\n",
      "--> Early-late correction will be applied \n",
      "\n",
      "* Evaluating the fluences:\n",
      "--> 0 % complete;\n",
      "--> 10 % complete;\n",
      "--> 20 % complete;\n",
      "--> 30 % complete;\n",
      "--> 40 % complete;\n",
      "--> 50 % complete;\n",
      "--> 60 % complete;\n",
      "--> 70 % complete;\n",
      "--> 80 % complete;\n",
      "--> 90 % complete;\n",
      "--> 100 % complete;\n",
      "\n",
      "\n"
     ]
    }
   ],
   "source": [
    "sim_dir = '/mnt/d/Pesquisa/GRAND/simulation/chuv_estrela/80deg/sim009000'\n",
    "#EnergyRec.f_thres = 1e-3\n",
    "rec1 = EnergyRec(sim_dir)\n",
    "\n",
    "rec1.Eval_fluences()\n",
    "fluence_arr_unc = rec1.fluence_arr\n",
    "\n",
    "n_ant = len(rec1.GRANDshower.fields)\n",
    "rec1.shower.R0_R = np.zeros(n_ant) + 1\n",
    "rec1.Eval_geo_ce_fluences()\n",
    "fluence_evB_unc = rec1.fluence_evB\n",
    "\n",
    "rec1.shower.R0_R = None\n",
    "rec1.Eval_geo_ce_fluences()\n",
    "fluence_arr = rec1.fluence_arr\n",
    "fluence_evB = rec1.fluence_evB"
   ]
  },
  {
   "cell_type": "code",
   "execution_count": 3,
   "metadata": {
    "hide_input": false
   },
   "outputs": [
    {
     "data": {
      "text/plain": [
       "<matplotlib.legend.Legend at 0x7ffc064ffe20>"
      ]
     },
     "execution_count": 3,
     "metadata": {},
     "output_type": "execute_result"
    },
    {
     "data": {
      "image/png": "[encoded data removed]",
      "text/plain": [
       "<Figure size 432x288 with 1 Axes>"
      ]
     },
     "metadata": {
      "needs_background": "light"
     },
     "output_type": "display_data"
    }
   ],
   "source": [
    "distance = np.linalg.norm((rec1.shower.r_proj - rec1.shower.r_Core_proj)[:,0:2],axis=1)\n",
    "\n",
    "plt.plot(distance,fluence_arr_unc,\"g*\",label=\"raw\")\n",
    "plt.plot(distance,fluence_arr,\"b*\",label = \"early late corr\")\n",
    "\n",
    "plt.ylim(0.01,20)\n",
    "plt.xlim(0,1500)\n",
    "plt.gca().set_yscale('log')\n",
    "plt.xlabel(\"dist. in m\")\n",
    "plt.ylabel(\"fluence eV/m$^2$\")\n",
    "\n",
    "plt.legend()"
   ]
  },
  {
   "cell_type": "code",
   "execution_count": 4,
   "metadata": {
    "hide_input": false
   },
   "outputs": [
    {
     "name": "stdout",
     "output_type": "stream",
     "text": [
      "1.103356695955895e-05\n",
      "[3.52481758e-01 7.62600011e+02 8.63623183e-02 2.15011582e-01]\n"
     ]
    }
   ],
   "source": [
    "fluence_geo = rec1.fluence_geo\n",
    "fluence_ce = rec1.fluence_ce\n",
    "\n",
    "n_ant = len(rec1.GRANDshower.fields)\n",
    "eB = rec1.GRANDshower.geomagnet.xyz.value/np.linalg.norm(rec1.GRANDshower.geomagnet.xyz.value)\n",
    "alpha = np.zeros(n_ant) + np.arccos(np.dot(rec1.shower.ev,eB))\n",
    "distance = np.linalg.norm((rec1.shower.r_proj - rec1.shower.r_Core_proj)[:,0:2],axis=1)\n",
    "d_Xmax = np.zeros(n_ant) +  np.linalg.norm((rec1.GRANDshower.core - rec1.GRANDshower.maximum).xyz.value)\n",
    "rho_max = np.zeros(n_ant) + rec1.SymFit.rho(d_Xmax[0],-rec1.shower.ev)\n",
    "\n",
    "bestfit = rec1.SymFit.a_ratio_fit(fluence_geo, fluence_ce,alpha, distance, d_Xmax, rho_max)\n",
    "print(rec1.SymFit.a_ratio_chi2(bestfit,fluence_geo, fluence_ce,alpha, distance, d_Xmax, rho_max))\n",
    "print(bestfit)"
   ]
  },
  {
   "cell_type": "code",
   "execution_count": 5,
   "metadata": {},
   "outputs": [
    {
     "name": "stdout",
     "output_type": "stream",
     "text": [
      "[3.52481758e-01 7.62600011e+02 8.63623183e-02 2.15011582e-01]\n",
      "1.103356695955895e-05\n"
     ]
    }
   ],
   "source": [
    "fluence_par = np.zeros(n_ant)\n",
    "\n",
    "par = bestfit\n",
    "print(par)\n",
    "print(rec1.SymFit.a_ratio_chi2(par,fluence_geo, fluence_ce,alpha, distance, d_Xmax, rho_max))\n",
    "for ant in range(n_ant):\n",
    "    r_plane = rec1.shower.r_proj[ant][0:2]\n",
    "    phi = np.arccos(np.dot(r_plane,np.array([1,0]))/np.linalg.norm(r_plane))\n",
    "    fluence_par[ant] = EnergyRec.SymFit.f_par_geo(fluence_evB[ant],phi,alpha[ant],distance[ant],d_Xmax[ant],par,rho_max[ant])"
   ]
  },
  {
   "cell_type": "code",
   "execution_count": 11,
   "metadata": {},
   "outputs": [
    {
     "name": "stdout",
     "output_type": "stream",
     "text": [
      "-0.009551727260746648 0.01277971789421688\n"
     ]
    },
    {
     "data": {
      "image/png": "[encoded data removed]",
      "text/plain": [
       "<Figure size 1008x360 with 2 Axes>"
      ]
     },
     "metadata": {
      "needs_background": "light"
     },
     "output_type": "display_data"
    }
   ],
   "source": [
    "plt.figure(figsize=[14,5])\n",
    "\n",
    "plt.subplot(121)\n",
    "plt.plot(distance,fluence_evB_unc,\"g*\", label=\"raw\")\n",
    "plt.plot(distance,fluence_evB,\"b*\", label = \"early late corr\")\n",
    "plt.plot(distance,fluence_par,\"r*\", label = \"parametrized\")\n",
    "\n",
    "plt.ylim(0,1)\n",
    "plt.xlim(0,1000)\n",
    "\n",
    "plt.xlabel(\"dist. in m\")\n",
    "plt.ylabel(\"fluence eV/m$^2$\")\n",
    "\n",
    "plt.legend()\n",
    "\n",
    "#plt.gca().set_yscale('log')\n",
    "\n",
    "plt.subplot(122)\n",
    "\n",
    "diff = (fluence_evB - fluence_par)/fluence_evB\n",
    "plt.hist(diff,10)\n",
    "plt.title(\"($f_{early-late}-f_{par})/f_{ealy-late}$\")\n",
    "\n",
    "print(np.mean(diff),np.std(diff))"
   ]
  },
  {
   "cell_type": "code",
   "execution_count": null,
   "metadata": {},
   "outputs": [],
   "source": []
  }
 ],
 "metadata": {
  "kernelspec": {
   "display_name": "Python 3",
   "language": "python",
   "name": "python3"
  },
  "varInspector": {
   "cols": {
    "lenName": 16,
    "lenType": 16,
    "lenVar": 40
   },
   "kernels_config": {
    "python": {
     "delete_cmd_postfix": "",
     "delete_cmd_prefix": "del ",
     "library": "var_list.py",
     "varRefreshCmd": "print(var_dic_list())"
    },
    "r": {
     "delete_cmd_postfix": ") ",
     "delete_cmd_prefix": "rm(",
     "library": "var_list.r",
     "varRefreshCmd": "cat(var_dic_list()) "
    }
   },
   "types_to_exclude": [
    "module",
    "function",
    "builtin_function_or_method",
    "instance",
    "_Feature"
   ],
   "window_display": false
  }
 },
 "nbformat": 4,
 "nbformat_minor": 4
}
