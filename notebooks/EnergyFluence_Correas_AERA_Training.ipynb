{
 "cells": [
  {
   "cell_type": "code",
   "execution_count": 8,
   "metadata": {
    "scrolled": true
   },
   "outputs": [],
   "source": [
    "import sys\n",
    "sys.path.insert(0,'../')\n",
    "\n",
    "from modERec import EnergyRec\n",
    "import numpy as np"
   ]
  },
  {
   "cell_type": "markdown",
   "metadata": {},
   "source": [
    "# Training stage\n",
    "\n",
    "This block loops over a given set of simulations and writes the shower plane fluences and antenna positions to a file."
   ]
  },
  {
   "cell_type": "code",
   "execution_count": 9,
   "metadata": {
    "scrolled": true
   },
   "outputs": [],
   "source": [
    "EnergyRec.bool_EarlyLate = True\n",
    "EnergyRec.bool_plot = False\n",
    "fluences_file = open(\"fluences_all.out\",'w')\n",
    "for i in range(100001,100008):\n",
    "    simulation = \"../files/sim\" + str(i) + \".hdf5\"\n",
    "    rec = EnergyRec(simulation)\n",
    "    for ant in rec.antenna:\n",
    "        fluence = ant.fluence/(ant.wEarlyLate**2)\n",
    "        if(fluence>rec.f_thres):\n",
    "            x = (ant.r_proj[0] - rec.shower.r_Core_proj[0])*ant.wEarlyLate\n",
    "            y = (ant.r_proj[1] - rec.shower.r_Core_proj[1])*ant.wEarlyLate\n",
    "            sigma_f = ant.sigma_f/(ant.wEarlyLate**2)\n",
    "            print(ant.ID, x, y, fluence, sigma_f, file=fluences_file)\n",
    "\n",
    "fluences_file.close()"
   ]
  },
  {
   "cell_type": "markdown",
   "metadata": {},
   "source": [
    "###  Determination of the $C$ parameters\n",
    "\n",
    "The double gaussian parametrization has a set of parameters $C$ to be determined. In this block, these paramaters are fit to all the simulations at once.\n",
    "This end the training stage."
   ]
  },
  {
   "cell_type": "code",
   "execution_count": 10,
   "metadata": {},
   "outputs": [
    {
     "name": "stdout",
     "output_type": "stream",
     "text": [
      "* Model fit:\n",
      "--> Done!\n",
      "\n",
      "\n"
     ]
    }
   ],
   "source": [
    "rec = EnergyRec(\"fluences_all.out\")\n",
    "Cs =rec.bestfit[2:7]"
   ]
  },
  {
   "cell_type": "markdown",
   "metadata": {},
   "source": [
    "# $S_{radio}$ determination\n",
    "\n",
    "With the $C$ parameters determined, a new fit is performed in order to determine $A$ and $\\sigma$ for each simulation and obtain the $S_{radio}$ to be related with the cosmic ray energy."
   ]
  },
  {
   "cell_type": "code",
   "execution_count": 11,
   "metadata": {
    "scrolled": true
   },
   "outputs": [],
   "source": [
    "import os\n",
    "if os.path.exists(\"bestfit.out\"):\n",
    "    os.remove(\"bestfit.out\")\n",
    "for i in range(100001,100008):\n",
    "    simulation = \"../files/sim\" + str(i) + \".hdf5\"\n",
    "    rec = EnergyRec(simulation)\n",
    "    rec.model_fit(\"\",Cs)"
   ]
  },
  {
   "cell_type": "code",
   "execution_count": 12,
   "metadata": {},
   "outputs": [],
   "source": [
    "def model(x, A, B):\n",
    "    return A*x**B"
   ]
  },
  {
   "cell_type": "code",
   "execution_count": 13,
   "metadata": {},
   "outputs": [],
   "source": [
    "import scipy as sp\n",
    "S_radio = np.loadtxt(\"bestfit.out\")[:,-1]*1.e-9 # from eV to GeV\n",
    "E_arr = np.loadtxt(\"bestfit.out\")[:,-2]*1.e-9 # from GeV to EeV\n",
    "AB_fit = sp.optimize.curve_fit(model,E_arr,S_radio,sigma=np.sqrt(S_radio))"
   ]
  },
  {
   "cell_type": "code",
   "execution_count": 14,
   "metadata": {},
   "outputs": [
    {
     "data": {
      "text/plain": [
       "<matplotlib.legend.Legend at 0x7fe82ccff340>"
      ]
     },
     "execution_count": 14,
     "metadata": {},
     "output_type": "execute_result"
    },
    {
     "data": {
      "image/png": "[encoded data removed]",
      "text/plain": [
       "<Figure size 1008x360 with 2 Axes>"
      ]
     },
     "metadata": {
      "needs_background": "light"
     },
     "output_type": "display_data"
    }
   ],
   "source": [
    "import matplotlib.pyplot as plt\n",
    "\n",
    "plt.figure(figsize=(14,5))\n",
    "plt.subplot(121)\n",
    "\n",
    "plt.plot(E_arr*1.e+18,S_radio,\"*\",label=\"MC\")\n",
    "plt.gca().set_yscale('log')\n",
    "plt.gca().set_xscale('log')\n",
    "plt.xlabel(r\"E$_{MC}$ (eV)\")\n",
    "plt.ylabel(r\"S$_{radio}$ (GeV)\")\n",
    "\n",
    "fit_x = np.linspace(np.min(E_arr),np.max(E_arr),100)\n",
    "fit_y = model(fit_x,AB_fit[0][0],AB_fit[0][1])\n",
    "fit_x = fit_x*1.e+18\n",
    "fit_label = \"fit: \"+ \"{:.2e}\".format(AB_fit[0][0]) + \" x pow(E,\"+ \"{:.2f}\".format(AB_fit[0][1]) +\")\"\n",
    "\n",
    "plt.plot(fit_x,fit_y,label=fit_label)\n",
    "plt.legend()\n",
    "\n",
    "plt.subplot(122)\n",
    "relative = (S_radio - model(E_arr,AB_fit[0][0],AB_fit[0][1]))/model(E_arr,AB_fit[0][0],AB_fit[0][1])\n",
    "re_label = r\"(S$_{radio}$-fit)/fit\"\n",
    "\n",
    "erec = pow((S_radio/AB_fit[0][0]),1./AB_fit[0][1])/E_arr\n",
    "stat = \"mean = \" +\"{:.2f}\".format(np.mean(erec)) + r\" ; $\\sigma$ = \" + \"{:.2f}\".format(np.std(erec))\n",
    "e_label = r\"E$_{radio}$/E_${MC}$\"\n",
    "plt.hist(erec,label=stat)\n",
    "plt.xlabel(e_label)\n",
    "plt.xlim(0.8,1.2)\n",
    "plt.ylabel(\"#\")\n",
    "plt.legend()"
   ]
  }
 ],
 "metadata": {
  "kernelspec": {
   "display_name": "Python 3",
   "language": "python",
   "name": "python3"
  },
  "language_info": {
   "codemirror_mode": {
    "name": "ipython",
    "version": 3
   },
   "file_extension": ".py",
   "mimetype": "text/x-python",
   "name": "python",
   "nbconvert_exporter": "python",
   "pygments_lexer": "ipython3",
   "version": "3.8.2"
  },
  "varInspector": {
   "cols": {
    "lenName": 16,
    "lenType": 16,
    "lenVar": 40
   },
   "kernels_config": {
    "python": {
     "delete_cmd_postfix": "",
     "delete_cmd_prefix": "del ",
     "library": "var_list.py",
     "varRefreshCmd": "print(var_dic_list())"
    },
    "r": {
     "delete_cmd_postfix": ") ",
     "delete_cmd_prefix": "rm(",
     "library": "var_list.r",
     "varRefreshCmd": "cat(var_dic_list()) "
    }
   },
   "oldHeight": 404.699518,
   "position": {
    "height": "310.833px",
    "left": "484.234px",
    "right": "20px",
    "top": "72.9792px",
    "width": "650.135px"
   },
   "types_to_exclude": [
    "module",
    "function",
    "builtin_function_or_method",
    "instance",
    "_Feature"
   ],
   "varInspector_section_display": "block",
   "window_display": false
  }
 },
 "nbformat": 4,
 "nbformat_minor": 2
}
