{
 "cells": [
  {
   "cell_type": "code",
   "execution_count": 1,
   "metadata": {
    "scrolled": true
   },
   "outputs": [
    {
     "name": "stdout",
     "output_type": "stream",
     "text": [
      "* EnergyRec default values summary:\n",
      "--> bool_plot =  False\n",
      "--> bool_EarlyLate =  True\n",
      "--> nu_low =  50\n",
      "--> nu_high =  200\n",
      "--> SNR_thres =  10\n",
      "--> thres_low =  1e-07\n",
      "--> thres_high =  1\n",
      "--> f_thres =  0.01\n",
      "--> printLevel =  0\n",
      "\n",
      "\n"
     ]
    }
   ],
   "source": [
    "import sys\n",
    "sys.path.insert(0,'../')\n",
    "\n",
    "from modERec import EnergyRec, SymFit\n",
    "import numpy as np"
   ]
  },
  {
   "cell_type": "markdown",
   "metadata": {},
   "source": [
    "# Training stage of $a_{ratio}$\n",
    "\n",
    "The following blocks are used to train the method and determine the parameters of $a_{ratio}$.\n",
    "\n",
    "$$a(r,d_{max},\\rho_{max};{\\boldsymbol p}) = p_0.\\frac{r}{d_{max}}.\\exp \\left(\\frac{r}{p_1}\\right).\n",
    "\\left[ \\exp\\left(\\frac{\\rho_{max}-<\\rho_{max}>}{p_2}\\right)-p_3\\right]$$\n",
    "\n",
    "The first step is to evaluate several quantities of interest: geomagnetic fluence, charge excess fluence, geomagnetic angle, axis distance of the antennas, distance to the $X_{max}$ and density at the $X_{max}$."
   ]
  },
  {
   "cell_type": "code",
   "execution_count": 2,
   "metadata": {},
   "outputs": [],
   "source": [
    "def quantities(sim_dir):\n",
    "    rec = EnergyRec(sim_dir)\n",
    "\n",
    "    weight = np.array([ant.wEarlyLate for ant in rec.antenna])\n",
    "    r_proj = np.array([ant.r_proj for ant in rec.antenna])\n",
    "    fluence_geo = np.array([ant.fluence_geo for ant in rec.antenna])/(weight**2)\n",
    "    fluence_ce = np.array([ant.fluence_ce for ant in rec.antenna])/(weight**2)\n",
    "\n",
    "    n_ant = len(rec.GRANDshower.fields)\n",
    "    alpha = np.full(n_ant,np.arccos(np.dot(rec.shower.ev,rec.shower.eB)))\n",
    "    distance = np.linalg.norm((r_proj - rec.shower.r_Core_proj)[:,0:2],axis=1)*weight\n",
    "    d_Xmax = np.full(n_ant,rec.shower.d_Xmax)\n",
    "    rho_Xmax = np.full(n_ant,SymFit.rho(d_Xmax[0],-rec.shower.ev))\n",
    "    \n",
    "    return fluence_geo, fluence_ce, alpha, distance, d_Xmax, rho_Xmax"
   ]
  },
  {
   "cell_type": "markdown",
   "metadata": {},
   "source": [
    "### Loop over the simulations\n",
    "\n",
    "Loop over the simulations and store the corresponding quantities."
   ]
  },
  {
   "cell_type": "code",
   "execution_count": 3,
   "metadata": {},
   "outputs": [],
   "source": [
    "fluence_geo = np.array([])\n",
    "fluence_ce = np.array([])\n",
    "alpha = np.array([])\n",
    "distance = np.array([])\n",
    "d_Xmax = np.array([])\n",
    "rho_Xmax = np.array([])\n",
    "\n",
    "for i in range(100001,100008):\n",
    "    simulation = \"../files/sim\" + str(i) + \".hdf5\"\n",
    "\n",
    "    f_geo, f_ce, a, d, d_max, rho_max = quantities(simulation)\n",
    "    fluence_geo = np.append(fluence_geo,f_geo)\n",
    "    fluence_ce = np.append(fluence_ce,f_ce)\n",
    "    alpha = np.append(alpha,a)\n",
    "    distance = np.append(distance,d)\n",
    "    d_Xmax = np.append(d_Xmax,d_max)\n",
    "    rho_Xmax = np.append(rho_Xmax,rho_max)"
   ]
  },
  {
   "cell_type": "markdown",
   "metadata": {},
   "source": [
    "### Perform the fit"
   ]
  },
  {
   "cell_type": "code",
   "execution_count": 4,
   "metadata": {},
   "outputs": [
    {
     "name": "stdout",
     "output_type": "stream",
     "text": [
      "[ 4.69930352e-06  1.32477713e+02  1.24691349e+00 -5.98305250e+00]\n"
     ]
    }
   ],
   "source": [
    "bestfit = SymFit.a_ratio_fit(fluence_geo, fluence_ce,alpha, distance, d_Xmax, rho_Xmax)\n",
    "print(bestfit)"
   ]
  },
  {
   "cell_type": "markdown",
   "metadata": {},
   "source": [
    "# Plot of a single simulation\n",
    "\n",
    "The following blocks plot the early-late corrected $f_{\\bf{v}\\times\\bf{B}}$ and the symmetrized signal distribution\n",
    "$$f_{par} = \\frac{f_{\\bf{v}\\times\\bf{B}}}{\\left(1+\\frac{\\cos(\\phi)}{|\\sin(\\alpha)|}.\\sqrt{(a(r,d_{max},\\rho_{max})}\\right)^2}$$"
   ]
  },
  {
   "cell_type": "code",
   "execution_count": 5,
   "metadata": {},
   "outputs": [
    {
     "data": {
      "text/plain": [
       "<matplotlib.legend.Legend at 0x7f384c7703d0>"
      ]
     },
     "execution_count": 5,
     "metadata": {},
     "output_type": "execute_result"
    },
    {
     "data": {
      "image/png": "[encoded data removed]",
      "text/plain": [
       "<Figure size 1008x360 with 1 Axes>"
      ]
     },
     "metadata": {
      "needs_background": "light"
     },
     "output_type": "display_data"
    }
   ],
   "source": [
    "import matplotlib.pyplot as plt\n",
    "\n",
    "rec = EnergyRec(simulation)\n",
    "\n",
    "plt.figure(figsize=[14,5])\n",
    "r_proj = np.array([ant.r_proj for ant in rec.antenna])\n",
    "distance = np.linalg.norm((r_proj - rec.shower.r_Core_proj)[:,0:2],axis=1)\n",
    "distance[(r_proj-rec.shower.r_Core_proj).T[1]<0] = - distance[(r_proj-rec.shower.r_Core_proj).T[1]<0]\n",
    "\n",
    "fluence_arr = np.array([ant.fluence for ant in rec.antenna])\n",
    "fluence_evB = np.array([ant.fluence_evB/(ant.wEarlyLate**2) for ant in rec.antenna])\n",
    "fluence_par = rec.Eval_par_fluences(bestfit)\n",
    "\n",
    "sel = np.where(fluence_arr>0.01)\n",
    "plt.plot(distance[sel],fluence_evB[sel],\"b*\", label = \"early late corr\")\n",
    "\n",
    "plt.plot(distance[sel],fluence_par[sel],\"r*\", label = r'f_${par}$')\n",
    "\n",
    "ldf_par = SymFit.SymLDF_fit(np.abs(distance[sel]),fluence_par[sel])\n",
    "f_par = SymFit.SymLDF(ldf_par,np.linspace(0,1500))\n",
    "plt.plot(np.linspace(0,1500),f_par,\"-\",label=r\"f$_{ABCD}$\")\n",
    "\n",
    "plt.xlabel(\"dist. in m\")\n",
    "plt.ylabel(\"fluence eV/m$^2$\")\n",
    "\n",
    "plt.legend()"
   ]
  },
  {
   "cell_type": "markdown",
   "metadata": {},
   "source": [
    "# Training stage of the $S_{radio}$\n",
    "\n",
    "The $f_{par}$ is fitted using \n",
    "$$f_{ABCD}(r) = A.\\exp\\left[-B.r -C.r^2 -D.r^3 \\right] $$\n",
    "\n",
    "The following block evaluates several quantities of interest for each simulation: the parameters of the ldf fit , the geomagnetic angle, the density at the $X_{max}$ and the energy. "
   ]
  },
  {
   "cell_type": "code",
   "execution_count": 6,
   "metadata": {},
   "outputs": [],
   "source": [
    "ldf_par_arr = np.empty(shape=(0, 4))\n",
    "alpha_arr = np.array([])\n",
    "rho_Xmax_arr = np.array([])\n",
    "E_arr = np.array([])\n",
    "\n",
    "for i in range(100001,100008):\n",
    "    simulation = \"../files/sim\" + str(i) + \".hdf5\"\n",
    "    rec = EnergyRec(simulation)\n",
    " \n",
    "    r_proj = np.array([ant.r_proj for ant in rec.antenna])\n",
    "    distance = np.linalg.norm((r_proj - rec.shower.r_Core_proj)[:,0:2],axis=1)\n",
    "    \n",
    "    fluence_par = rec.Eval_par_fluences(bestfit)\n",
    "    sel = np.where(fluence_par>0)\n",
    "    \n",
    "    ldf_par = SymFit.SymLDF_fit(distance[sel],fluence_par[sel])\n",
    "    d_Xmax = rec.shower.d_Xmax\n",
    "    rho_Xmax = SymFit.rho(d_Xmax,-rec.shower.ev)\n",
    "\n",
    "    ldf_par_arr = np.vstack((ldf_par_arr,[ldf_par]))\n",
    "    alpha_arr = np.append(alpha_arr,[np.arccos(np.dot(rec.shower.ev,rec.shower.eB))])\n",
    "    rho_Xmax_arr = np.append(rho_Xmax_arr,[rho_Xmax])\n",
    "    E_arr = np.append(E_arr,[rec.GRANDshower.energy.to(\"EeV\").value])"
   ]
  },
  {
   "cell_type": "markdown",
   "metadata": {},
   "source": [
    "### The energy estimator\n",
    "\n",
    "The radiation energy (integral of the symmetric LDF) hsa to be corrected according\n",
    "$$S_{rad} = \\frac{E_{rad}}{\\sin^2(\\alpha)}.\\frac{1}{1-par_0+par_0.\\exp\\left[par_1.(\\rho_{max}-0.648\\, {\\rm kg/m^3}) \\right]}$$\n",
    "\n",
    "The $S_{radio}$ is related to the energy via\n",
    "$$S_{rad} = S_{19}.\\left( \\frac{E}{10 {\\rm EeV}}\\right)^\\gamma$$\n",
    "\n",
    "The parameters of the above equations are obtained through a joint fit to all simulations."
   ]
  },
  {
   "cell_type": "code",
   "execution_count": 7,
   "metadata": {},
   "outputs": [
    {
     "name": "stdout",
     "output_type": "stream",
     "text": [
      "[ 0.6095657   3.86352134 20.60760524  1.98330928]\n"
     ]
    }
   ],
   "source": [
    "joint_bestfit = SymFit.joint_S_fit(ldf_par_arr,alpha_arr,rho_Xmax_arr,E_arr)\n",
    "print(joint_bestfit)"
   ]
  },
  {
   "cell_type": "markdown",
   "metadata": {},
   "source": [
    "# $S_{radio}\\times$  energy relation\n",
    "\n",
    "When simulations for different energies are available this block will plot the relation between $S_{radio}$ and the energy."
   ]
  },
  {
   "cell_type": "code",
   "execution_count": 8,
   "metadata": {},
   "outputs": [
    {
     "data": {
      "text/plain": [
       "<matplotlib.legend.Legend at 0x7f384c70e940>"
      ]
     },
     "execution_count": 8,
     "metadata": {},
     "output_type": "execute_result"
    },
    {
     "data": {
      "image/png": "[encoded data removed]",
      "text/plain": [
       "<Figure size 1008x360 with 2 Axes>"
      ]
     },
     "metadata": {
      "needs_background": "light"
     },
     "output_type": "display_data"
    }
   ],
   "source": [
    "import matplotlib.pyplot as plt\n",
    "\n",
    "S_geo = np.zeros(len(ldf_par_arr))\n",
    "S_mod = np.zeros(len(ldf_par_arr))\n",
    "\n",
    "for i in range(len(ldf_par_arr)):\n",
    "    S_geo[i] = SymFit.Sradio_geo(joint_bestfit[0:2],ldf_par_arr[i],alpha_arr[i],rho_Xmax_arr[i])\n",
    "    S_mod[i] = SymFit.Sradio_mod(joint_bestfit[2:4],E_arr[i])\n",
    "\n",
    "plt.figure(figsize=(14,5))\n",
    "plt.subplot(121)\n",
    "plt.plot(E_arr*1.e18,S_geo,\"*\",label=\"MC\")\n",
    "\n",
    "fit_label = \"fit: \"+ \"{:.2e}\".format(joint_bestfit[2]) + \" x pow(E,\"+ \"{:.2f}\".format(joint_bestfit[3]) +\")\"\n",
    "fit_x = [np.min(E_arr*1.e18),np.max(E_arr*1.e18)]\n",
    "fit_y = [SymFit.Sradio_mod(joint_bestfit[2:4],np.min(E_arr)), SymFit.Sradio_mod(joint_bestfit[2:4],np.max(E_arr))]\n",
    "plt.plot(fit_x,fit_y,label = fit_label)\n",
    "plt.legend()\n",
    "plt.xlabel(r\"E$_{MC}$ in eV\")\n",
    "plt.ylabel(r\"S$_{radio}$ in GeV\")\n",
    "plt.gca().set_yscale('log')\n",
    "plt.gca().set_xscale('log')\n",
    "\n",
    "plt.subplot(122)\n",
    "\n",
    "erec = pow((S_geo/joint_bestfit[2]),1./joint_bestfit[3])*10./E_arr\n",
    "e_label = r\"E$_{radio}$/E_${MC}$\"\n",
    "stat = \"mean = \" +\"{:.2f}\".format(np.mean(erec)) + r\" ; $\\sigma$ = \" + \"{:.2f}\".format(np.std(erec))\n",
    "plt.hist(erec,label=stat)\n",
    "plt.xlabel(e_label)\n",
    "plt.xlim(0.8,1.2)\n",
    "plt.ylabel(\"#\")\n",
    "plt.legend()"
   ]
  }
 ],
 "metadata": {
  "kernelspec": {
   "display_name": "Python 3",
   "language": "python",
   "name": "python3"
  },
  "language_info": {
   "codemirror_mode": {
    "name": "ipython",
    "version": 3
   },
   "file_extension": ".py",
   "mimetype": "text/x-python",
   "name": "python",
   "nbconvert_exporter": "python",
   "pygments_lexer": "ipython3",
   "version": "3.8.2"
  },
  "varInspector": {
   "cols": {
    "lenName": 16,
    "lenType": 16,
    "lenVar": 40
   },
   "kernels_config": {
    "python": {
     "delete_cmd_postfix": "",
     "delete_cmd_prefix": "del ",
     "library": "var_list.py",
     "varRefreshCmd": "print(var_dic_list())"
    },
    "r": {
     "delete_cmd_postfix": ") ",
     "delete_cmd_prefix": "rm(",
     "library": "var_list.r",
     "varRefreshCmd": "cat(var_dic_list()) "
    }
   },
   "types_to_exclude": [
    "module",
    "function",
    "builtin_function_or_method",
    "instance",
    "_Feature"
   ],
   "window_display": false
  }
 },
 "nbformat": 4,
 "nbformat_minor": 4
}
